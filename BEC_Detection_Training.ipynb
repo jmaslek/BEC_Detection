{
  "nbformat": 4,
  "nbformat_minor": 0,
  "metadata": {
    "colab": {
      "name": "BEC_Detection_Training.ipynb",
      "provenance": [],
      "collapsed_sections": [],
      "toc_visible": true,
      "authorship_tag": "ABX9TyMryh5OAME/2CWkHrMqV8A1",
      "include_colab_link": true
    },
    "kernelspec": {
      "name": "python3",
      "display_name": "Python 3"
    },
    "accelerator": "GPU"
  },
  "cells": [
    {
      "cell_type": "markdown",
      "metadata": {
        "id": "view-in-github",
        "colab_type": "text"
      },
      "source": [
        "<a href=\"https://colab.research.google.com/github/jmaslek/BEC_Detection/blob/main/BEC_Detection_Training.ipynb\" target=\"_parent\"><img src=\"https://colab.research.google.com/assets/colab-badge.svg\" alt=\"Open In Colab\"/></a>"
      ]
    },
    {
      "cell_type": "code",
      "metadata": {
        "colab": {
          "base_uri": "https://localhost:8080/"
        },
        "id": "3YoFAWkpZldL",
        "outputId": "48d75959-ae39-4585-e828-22a82a4a803a"
      },
      "source": [
        "import sys,os, json, skimage, numpy as np\r\n",
        "!pip install tensorflow-gpu==1.15.0\r\n",
        "!pip install keras==2.0.8\r\n",
        "!git clone https://github.com/matterport/Mask_RCNN.git"
      ],
      "execution_count": null,
      "outputs": [
        {
          "output_type": "stream",
          "text": [
            "Collecting tensorflow-gpu==1.15.0\n",
            "\u001b[?25l  Downloading https://files.pythonhosted.org/packages/a5/ad/933140e74973fb917a194ab814785e7c23680ca5dee6d663a509fe9579b6/tensorflow_gpu-1.15.0-cp36-cp36m-manylinux2010_x86_64.whl (411.5MB)\n",
            "\u001b[K     |████████████████████████████████| 411.5MB 41kB/s \n",
            "\u001b[?25hRequirement already satisfied: absl-py>=0.7.0 in /usr/local/lib/python3.6/dist-packages (from tensorflow-gpu==1.15.0) (0.10.0)\n",
            "Requirement already satisfied: six>=1.10.0 in /usr/local/lib/python3.6/dist-packages (from tensorflow-gpu==1.15.0) (1.15.0)\n",
            "Requirement already satisfied: termcolor>=1.1.0 in /usr/local/lib/python3.6/dist-packages (from tensorflow-gpu==1.15.0) (1.1.0)\n",
            "Collecting gast==0.2.2\n",
            "  Downloading https://files.pythonhosted.org/packages/4e/35/11749bf99b2d4e3cceb4d55ca22590b0d7c2c62b9de38ac4a4a7f4687421/gast-0.2.2.tar.gz\n",
            "Requirement already satisfied: protobuf>=3.6.1 in /usr/local/lib/python3.6/dist-packages (from tensorflow-gpu==1.15.0) (3.12.4)\n",
            "Collecting tensorboard<1.16.0,>=1.15.0\n",
            "\u001b[?25l  Downloading https://files.pythonhosted.org/packages/1e/e9/d3d747a97f7188f48aa5eda486907f3b345cd409f0a0850468ba867db246/tensorboard-1.15.0-py3-none-any.whl (3.8MB)\n",
            "\u001b[K     |████████████████████████████████| 3.8MB 42.3MB/s \n",
            "\u001b[?25hRequirement already satisfied: grpcio>=1.8.6 in /usr/local/lib/python3.6/dist-packages (from tensorflow-gpu==1.15.0) (1.34.0)\n",
            "Requirement already satisfied: numpy<2.0,>=1.16.0 in /usr/local/lib/python3.6/dist-packages (from tensorflow-gpu==1.15.0) (1.18.5)\n",
            "Requirement already satisfied: keras-preprocessing>=1.0.5 in /usr/local/lib/python3.6/dist-packages (from tensorflow-gpu==1.15.0) (1.1.2)\n",
            "Requirement already satisfied: astor>=0.6.0 in /usr/local/lib/python3.6/dist-packages (from tensorflow-gpu==1.15.0) (0.8.1)\n",
            "Requirement already satisfied: wrapt>=1.11.1 in /usr/local/lib/python3.6/dist-packages (from tensorflow-gpu==1.15.0) (1.12.1)\n",
            "Requirement already satisfied: opt-einsum>=2.3.2 in /usr/local/lib/python3.6/dist-packages (from tensorflow-gpu==1.15.0) (3.3.0)\n",
            "Requirement already satisfied: wheel>=0.26 in /usr/local/lib/python3.6/dist-packages (from tensorflow-gpu==1.15.0) (0.36.1)\n",
            "Collecting tensorflow-estimator==1.15.1\n",
            "\u001b[?25l  Downloading https://files.pythonhosted.org/packages/de/62/2ee9cd74c9fa2fa450877847ba560b260f5d0fb70ee0595203082dafcc9d/tensorflow_estimator-1.15.1-py2.py3-none-any.whl (503kB)\n",
            "\u001b[K     |████████████████████████████████| 512kB 56.0MB/s \n",
            "\u001b[?25hCollecting keras-applications>=1.0.8\n",
            "\u001b[?25l  Downloading https://files.pythonhosted.org/packages/71/e3/19762fdfc62877ae9102edf6342d71b28fbfd9dea3d2f96a882ce099b03f/Keras_Applications-1.0.8-py3-none-any.whl (50kB)\n",
            "\u001b[K     |████████████████████████████████| 51kB 8.4MB/s \n",
            "\u001b[?25hRequirement already satisfied: google-pasta>=0.1.6 in /usr/local/lib/python3.6/dist-packages (from tensorflow-gpu==1.15.0) (0.2.0)\n",
            "Requirement already satisfied: setuptools in /usr/local/lib/python3.6/dist-packages (from protobuf>=3.6.1->tensorflow-gpu==1.15.0) (50.3.2)\n",
            "Requirement already satisfied: werkzeug>=0.11.15 in /usr/local/lib/python3.6/dist-packages (from tensorboard<1.16.0,>=1.15.0->tensorflow-gpu==1.15.0) (1.0.1)\n",
            "Requirement already satisfied: markdown>=2.6.8 in /usr/local/lib/python3.6/dist-packages (from tensorboard<1.16.0,>=1.15.0->tensorflow-gpu==1.15.0) (3.3.3)\n",
            "Requirement already satisfied: h5py in /usr/local/lib/python3.6/dist-packages (from keras-applications>=1.0.8->tensorflow-gpu==1.15.0) (2.10.0)\n",
            "Requirement already satisfied: importlib-metadata; python_version < \"3.8\" in /usr/local/lib/python3.6/dist-packages (from markdown>=2.6.8->tensorboard<1.16.0,>=1.15.0->tensorflow-gpu==1.15.0) (3.1.1)\n",
            "Requirement already satisfied: zipp>=0.5 in /usr/local/lib/python3.6/dist-packages (from importlib-metadata; python_version < \"3.8\"->markdown>=2.6.8->tensorboard<1.16.0,>=1.15.0->tensorflow-gpu==1.15.0) (3.4.0)\n",
            "Building wheels for collected packages: gast\n",
            "  Building wheel for gast (setup.py) ... \u001b[?25l\u001b[?25hdone\n",
            "  Created wheel for gast: filename=gast-0.2.2-cp36-none-any.whl size=7542 sha256=4288e870c5f6c8fb42ae3f7f765ae80367cb984b6955243b80be0c484bdac21c\n",
            "  Stored in directory: /root/.cache/pip/wheels/5c/2e/7e/a1d4d4fcebe6c381f378ce7743a3ced3699feb89bcfbdadadd\n",
            "Successfully built gast\n",
            "\u001b[31mERROR: tensorflow 2.3.0 has requirement gast==0.3.3, but you'll have gast 0.2.2 which is incompatible.\u001b[0m\n",
            "\u001b[31mERROR: tensorflow 2.3.0 has requirement tensorboard<3,>=2.3.0, but you'll have tensorboard 1.15.0 which is incompatible.\u001b[0m\n",
            "\u001b[31mERROR: tensorflow 2.3.0 has requirement tensorflow-estimator<2.4.0,>=2.3.0, but you'll have tensorflow-estimator 1.15.1 which is incompatible.\u001b[0m\n",
            "\u001b[31mERROR: tensorflow-probability 0.11.0 has requirement gast>=0.3.2, but you'll have gast 0.2.2 which is incompatible.\u001b[0m\n",
            "Installing collected packages: gast, tensorboard, tensorflow-estimator, keras-applications, tensorflow-gpu\n",
            "  Found existing installation: gast 0.3.3\n",
            "    Uninstalling gast-0.3.3:\n",
            "      Successfully uninstalled gast-0.3.3\n",
            "  Found existing installation: tensorboard 2.3.0\n",
            "    Uninstalling tensorboard-2.3.0:\n",
            "      Successfully uninstalled tensorboard-2.3.0\n",
            "  Found existing installation: tensorflow-estimator 2.3.0\n",
            "    Uninstalling tensorflow-estimator-2.3.0:\n",
            "      Successfully uninstalled tensorflow-estimator-2.3.0\n",
            "Successfully installed gast-0.2.2 keras-applications-1.0.8 tensorboard-1.15.0 tensorflow-estimator-1.15.1 tensorflow-gpu-1.15.0\n",
            "Collecting keras==2.0.8\n",
            "\u001b[?25l  Downloading https://files.pythonhosted.org/packages/67/3f/d117d6e48b19fb9589369f4bdbe883aa88943f8bb4a850559ea5c546fefb/Keras-2.0.8-py2.py3-none-any.whl (276kB)\n",
            "\u001b[K     |████████████████████████████████| 276kB 15.1MB/s \n",
            "\u001b[?25hRequirement already satisfied: pyyaml in /usr/local/lib/python3.6/dist-packages (from keras==2.0.8) (3.13)\n",
            "Requirement already satisfied: six>=1.9.0 in /usr/local/lib/python3.6/dist-packages (from keras==2.0.8) (1.15.0)\n",
            "Requirement already satisfied: numpy>=1.9.1 in /usr/local/lib/python3.6/dist-packages (from keras==2.0.8) (1.18.5)\n",
            "Requirement already satisfied: scipy>=0.14 in /usr/local/lib/python3.6/dist-packages (from keras==2.0.8) (1.4.1)\n",
            "\u001b[31mERROR: textgenrnn 1.4.1 has requirement keras>=2.1.5, but you'll have keras 2.0.8 which is incompatible.\u001b[0m\n",
            "Installing collected packages: keras\n",
            "  Found existing installation: Keras 2.4.3\n",
            "    Uninstalling Keras-2.4.3:\n",
            "      Successfully uninstalled Keras-2.4.3\n",
            "Successfully installed keras-2.0.8\n",
            "Cloning into 'Mask_RCNN'...\n",
            "remote: Enumerating objects: 956, done.\u001b[K\n",
            "remote: Total 956 (delta 0), reused 0 (delta 0), pack-reused 956\u001b[K\n",
            "Receiving objects: 100% (956/956), 125.23 MiB | 40.52 MiB/s, done.\n",
            "Resolving deltas: 100% (560/560), done.\n"
          ],
          "name": "stdout"
        }
      ]
    },
    {
      "cell_type": "code",
      "metadata": {
        "id": "852siiOVeRWx",
        "colab": {
          "base_uri": "https://localhost:8080/"
        },
        "outputId": "3ed9e2f0-10f6-4f24-e6f8-2268977f63a3"
      },
      "source": [
        "sys.path.append(os.path.join(os.getcwd(), 'Mask_RCNN')) \r\n",
        "import mrcnn\r\n",
        "from mrcnn.config import Config\r\n",
        "from mrcnn import utils\r\n",
        "import mrcnn.model as modellib"
      ],
      "execution_count": null,
      "outputs": [
        {
          "output_type": "stream",
          "text": [
            "Using TensorFlow backend.\n"
          ],
          "name": "stderr"
        }
      ]
    },
    {
      "cell_type": "code",
      "metadata": {
        "id": "JCUnlkCEfjR_"
      },
      "source": [
        "class BEC_Config(Config):\r\n",
        "\r\n",
        "  NAME = 'BEC'\r\n",
        "  IMAGES_PER_GPU = 4\r\n",
        "  GPU_COUNT = 1\r\n",
        "  NUM_CLASSES = 1 + 3\r\n",
        "  STEPS_PER_EPOCH = 25\r\n",
        "  DETECTION_MIN_CONFIDENCE = .9"
      ],
      "execution_count": null,
      "outputs": []
    },
    {
      "cell_type": "code",
      "metadata": {
        "colab": {
          "base_uri": "https://localhost:8080/"
        },
        "id": "uFxfursFUSZp",
        "outputId": "ee7f6394-5ac7-4169-a3ac-32a3a148bf66"
      },
      "source": [
        "BEC_Config().display()"
      ],
      "execution_count": null,
      "outputs": [
        {
          "output_type": "stream",
          "text": [
            "\n",
            "Configurations:\n",
            "BACKBONE                       resnet101\n",
            "BACKBONE_STRIDES               [4, 8, 16, 32, 64]\n",
            "BATCH_SIZE                     4\n",
            "BBOX_STD_DEV                   [0.1 0.1 0.2 0.2]\n",
            "COMPUTE_BACKBONE_SHAPE         None\n",
            "DETECTION_MAX_INSTANCES        100\n",
            "DETECTION_MIN_CONFIDENCE       0.9\n",
            "DETECTION_NMS_THRESHOLD        0.3\n",
            "FPN_CLASSIF_FC_LAYERS_SIZE     1024\n",
            "GPU_COUNT                      1\n",
            "GRADIENT_CLIP_NORM             5.0\n",
            "IMAGES_PER_GPU                 4\n",
            "IMAGE_CHANNEL_COUNT            3\n",
            "IMAGE_MAX_DIM                  1024\n",
            "IMAGE_META_SIZE                16\n",
            "IMAGE_MIN_DIM                  800\n",
            "IMAGE_MIN_SCALE                0\n",
            "IMAGE_RESIZE_MODE              square\n",
            "IMAGE_SHAPE                    [1024 1024    3]\n",
            "LEARNING_MOMENTUM              0.9\n",
            "LEARNING_RATE                  0.001\n",
            "LOSS_WEIGHTS                   {'rpn_class_loss': 1.0, 'rpn_bbox_loss': 1.0, 'mrcnn_class_loss': 1.0, 'mrcnn_bbox_loss': 1.0, 'mrcnn_mask_loss': 1.0}\n",
            "MASK_POOL_SIZE                 14\n",
            "MASK_SHAPE                     [28, 28]\n",
            "MAX_GT_INSTANCES               100\n",
            "MEAN_PIXEL                     [123.7 116.8 103.9]\n",
            "MINI_MASK_SHAPE                (56, 56)\n",
            "NAME                           BEC\n",
            "NUM_CLASSES                    4\n",
            "POOL_SIZE                      7\n",
            "POST_NMS_ROIS_INFERENCE        1000\n",
            "POST_NMS_ROIS_TRAINING         2000\n",
            "PRE_NMS_LIMIT                  6000\n",
            "ROI_POSITIVE_RATIO             0.33\n",
            "RPN_ANCHOR_RATIOS              [0.5, 1, 2]\n",
            "RPN_ANCHOR_SCALES              (32, 64, 128, 256, 512)\n",
            "RPN_ANCHOR_STRIDE              1\n",
            "RPN_BBOX_STD_DEV               [0.1 0.1 0.2 0.2]\n",
            "RPN_NMS_THRESHOLD              0.7\n",
            "RPN_TRAIN_ANCHORS_PER_IMAGE    256\n",
            "STEPS_PER_EPOCH                25\n",
            "TOP_DOWN_PYRAMID_SIZE          256\n",
            "TRAIN_BN                       False\n",
            "TRAIN_ROIS_PER_IMAGE           200\n",
            "USE_MINI_MASK                  True\n",
            "USE_RPN_ROIS                   True\n",
            "VALIDATION_STEPS               50\n",
            "WEIGHT_DECAY                   0.0001\n",
            "\n",
            "\n"
          ],
          "name": "stdout"
        }
      ]
    },
    {
      "cell_type": "code",
      "metadata": {
        "id": "j0wr1CStxIOO"
      },
      "source": [
        "class BEC_Dataset(utils.Dataset):\r\n",
        "\r\n",
        "  def load_bec(self, dataset_dir):\r\n",
        "    self.add_class('BEC', 1, 'BEC')\r\n",
        "    self.add_class('BEC', 2, 'Peak')\r\n",
        "    self.add_class('BEC', 3, 'Thermal')\r\n",
        "\r\n",
        "\r\n",
        "    annotations = json.load(open ('/content/via_project_9Dec2020_14h15m_json.json'))\r\n",
        "    annotations = list(annotations.values())\r\n",
        "    \r\n",
        "    for ann in annotations:\r\n",
        "\r\n",
        "      polygons =  [r['shape_attributes'] for r in ann['regions']]\r\n",
        "      class_ids = [r['region_attributes']['Class'] for r in ann['regions']]\r\n",
        "      \r\n",
        "      image_path = os.path.join(dataset_dir , ann['filename'])\r\n",
        "\r\n",
        "      image = skimage.io.imread(image_path)\r\n",
        "\r\n",
        "      height , width = image.shape[:2]\r\n",
        "\r\n",
        "      self.add_image( 'BEC', \r\n",
        "                     image_id = ann['filename'],\r\n",
        "                     path = image_path,\r\n",
        "                     width = width, height = height,\r\n",
        "                     polygons = polygons ,\r\n",
        "                     class_ids = class_ids )\r\n",
        "      \r\n",
        "\r\n",
        "  def load_mask(self, image_id):\r\n",
        "\r\n",
        "    image_info = self.image_info[image_id]\r\n",
        "\r\n",
        "    if image_info['source'] != 'BEC':\r\n",
        "      return super(self.__class__, self).load_mask(image_id)\r\n",
        "\r\n",
        "    info = self.image_info[image_id]\r\n",
        "    mask = np.zeros([info['height'], info['width'], len(info['polygons'])], dtype = np.uint8)\r\n",
        "\r\n",
        "    for i,p in enumerate(info['polygons']):\r\n",
        "\r\n",
        "      rr,cc = skimage.draw.rectangle((p['y'], p['x']) , extent = (p['height'], p['width'])) \r\n",
        "\r\n",
        "      mask[rr,cc, i] = 1\r\n",
        "    \r\n",
        "\r\n",
        "    classes = []\r\n",
        "    for s in info['class_ids']:\r\n",
        "      if s in self.class_names:\r\n",
        "        classes.append(self.class_names.index(s))\r\n",
        "      else:\r\n",
        "        classes.append(3)\r\n",
        "\r\n",
        "    return mask.astype(np.bool) , np.array(classes)#np.array([self.class_names.index(s) for s in info['class_ids']]) #np.ones([mask.shape[-1]], dtype = np.int32)  \r\n",
        "\r\n",
        "  def image_reference(self, image_id):\r\n",
        "    info = self.image_info[image_id]\r\n",
        "    if info['source'] == 'BEC':\r\n",
        "      return info['path']\r\n",
        "    else:\r\n",
        "      super(self.__class__, self).image_reference(image_id) "
      ],
      "execution_count": null,
      "outputs": []
    },
    {
      "cell_type": "code",
      "metadata": {
        "colab": {
          "base_uri": "https://localhost:8080/"
        },
        "id": "jIHHP-gTxHyP",
        "outputId": "2f981ceb-1d8a-422f-b690-3e0add3ab5b2"
      },
      "source": [
        "\r\n",
        "coco_weights_dir = '/content/model_dir/mask_rcnn_coco.h5'\r\n",
        "if not os.path.exists(coco_weights_dir):\r\n",
        "  utils.download_trained_weights(coco_weights_dir)\r\n",
        "model = modellib.MaskRCNN('training', model_dir='/content/model_dir',\r\n",
        "                  config = BEC_Config())\r\n",
        "model.load_weights(coco_weights_dir, by_name = True,\r\n",
        "                   exclude= ['mrcnn_class_logits','mrcnn_bbox_fc',\r\n",
        "                             'mrcnn_bbox' , 'mrcnn_mask'])\r\n"
      ],
      "execution_count": null,
      "outputs": [
        {
          "output_type": "stream",
          "text": [
            "WARNING:tensorflow:From /usr/local/lib/python3.6/dist-packages/keras/backend/tensorflow_backend.py:442: The name tf.placeholder is deprecated. Please use tf.compat.v1.placeholder instead.\n",
            "\n",
            "WARNING:tensorflow:From /usr/local/lib/python3.6/dist-packages/keras/backend/tensorflow_backend.py:58: The name tf.get_default_graph is deprecated. Please use tf.compat.v1.get_default_graph instead.\n",
            "\n",
            "WARNING:tensorflow:From /usr/local/lib/python3.6/dist-packages/keras/backend/tensorflow_backend.py:3543: The name tf.random_uniform is deprecated. Please use tf.random.uniform instead.\n",
            "\n",
            "WARNING:tensorflow:From /usr/local/lib/python3.6/dist-packages/keras/backend/tensorflow_backend.py:3386: The name tf.nn.max_pool is deprecated. Please use tf.nn.max_pool2d instead.\n",
            "\n",
            "WARNING:tensorflow:From /usr/local/lib/python3.6/dist-packages/keras/backend/tensorflow_backend.py:1768: The name tf.image.resize_nearest_neighbor is deprecated. Please use tf.compat.v1.image.resize_nearest_neighbor instead.\n",
            "\n",
            "WARNING:tensorflow:From /usr/local/lib/python3.6/dist-packages/keras/backend/tensorflow_backend.py:1154: calling reduce_max_v1 (from tensorflow.python.ops.math_ops) with keep_dims is deprecated and will be removed in a future version.\n",
            "Instructions for updating:\n",
            "keep_dims is deprecated, use keepdims instead\n",
            "WARNING:tensorflow:From /usr/local/lib/python3.6/dist-packages/keras/backend/tensorflow_backend.py:1188: calling reduce_sum_v1 (from tensorflow.python.ops.math_ops) with keep_dims is deprecated and will be removed in a future version.\n",
            "Instructions for updating:\n",
            "keep_dims is deprecated, use keepdims instead\n",
            "WARNING:tensorflow:From /usr/local/lib/python3.6/dist-packages/tensorflow_core/python/ops/array_ops.py:1475: where (from tensorflow.python.ops.array_ops) is deprecated and will be removed in a future version.\n",
            "Instructions for updating:\n",
            "Use tf.where in 2.0, which has the same broadcast rule as np.where\n",
            "WARNING:tensorflow:From /content/Mask_RCNN/mrcnn/model.py:553: The name tf.random_shuffle is deprecated. Please use tf.random.shuffle instead.\n",
            "\n",
            "WARNING:tensorflow:From /content/Mask_RCNN/mrcnn/utils.py:202: The name tf.log is deprecated. Please use tf.math.log instead.\n",
            "\n",
            "WARNING:tensorflow:From /content/Mask_RCNN/mrcnn/model.py:600: calling crop_and_resize_v1 (from tensorflow.python.ops.image_ops_impl) with box_ind is deprecated and will be removed in a future version.\n",
            "Instructions for updating:\n",
            "box_ind is deprecated, use box_indices instead\n",
            "WARNING:tensorflow:From /usr/local/lib/python3.6/dist-packages/keras/backend/tensorflow_backend.py:153: The name tf.get_default_session is deprecated. Please use tf.compat.v1.get_default_session instead.\n",
            "\n",
            "WARNING:tensorflow:From /usr/local/lib/python3.6/dist-packages/keras/backend/tensorflow_backend.py:158: The name tf.ConfigProto is deprecated. Please use tf.compat.v1.ConfigProto instead.\n",
            "\n",
            "WARNING:tensorflow:From /usr/local/lib/python3.6/dist-packages/keras/backend/tensorflow_backend.py:163: The name tf.Session is deprecated. Please use tf.compat.v1.Session instead.\n",
            "\n",
            "WARNING:tensorflow:From /usr/local/lib/python3.6/dist-packages/keras/backend/tensorflow_backend.py:333: The name tf.global_variables is deprecated. Please use tf.compat.v1.global_variables instead.\n",
            "\n",
            "WARNING:tensorflow:From /usr/local/lib/python3.6/dist-packages/keras/backend/tensorflow_backend.py:341: The name tf.variables_initializer is deprecated. Please use tf.compat.v1.variables_initializer instead.\n",
            "\n"
          ],
          "name": "stdout"
        }
      ]
    },
    {
      "cell_type": "code",
      "metadata": {
        "colab": {
          "base_uri": "https://localhost:8080/"
        },
        "id": "WzaXUa7SPBrC",
        "outputId": "ee00d724-d604-49c1-a29f-48d161fdd1ca"
      },
      "source": [
        "dataset_train = BEC_Dataset()\r\n",
        "dataset_train.load_bec('/content/Train_Data')\r\n",
        "dataset_train.prepare()\r\n",
        "model.train(dataset_train,dataset_train, learning_rate = 0.005, epochs =20, layers='heads')"
      ],
      "execution_count": null,
      "outputs": [
        {
          "output_type": "stream",
          "text": [
            "\n",
            "Starting at epoch 1. LR=0.005\n",
            "\n",
            "Checkpoint Path: /content/model_dir/bec20201210T1939/mask_rcnn_bec_{epoch:04d}.h5\n",
            "Selecting layers to train\n",
            "fpn_c5p5               (Conv2D)\n",
            "fpn_c4p4               (Conv2D)\n",
            "fpn_c3p3               (Conv2D)\n",
            "fpn_c2p2               (Conv2D)\n",
            "fpn_p5                 (Conv2D)\n",
            "fpn_p2                 (Conv2D)\n",
            "fpn_p3                 (Conv2D)\n",
            "fpn_p4                 (Conv2D)\n",
            "In model:  rpn_model\n",
            "    rpn_conv_shared        (Conv2D)\n",
            "    rpn_class_raw          (Conv2D)\n",
            "    rpn_bbox_pred          (Conv2D)\n",
            "mrcnn_mask_conv1       (TimeDistributed)\n",
            "mrcnn_mask_bn1         (TimeDistributed)\n",
            "mrcnn_mask_conv2       (TimeDistributed)\n",
            "mrcnn_mask_bn2         (TimeDistributed)\n",
            "mrcnn_class_conv1      (TimeDistributed)\n",
            "mrcnn_class_bn1        (TimeDistributed)\n",
            "mrcnn_mask_conv3       (TimeDistributed)\n",
            "mrcnn_mask_bn3         (TimeDistributed)\n",
            "mrcnn_class_conv2      (TimeDistributed)\n",
            "mrcnn_class_bn2        (TimeDistributed)\n",
            "mrcnn_mask_conv4       (TimeDistributed)\n",
            "mrcnn_mask_bn4         (TimeDistributed)\n",
            "mrcnn_bbox_fc          (TimeDistributed)\n",
            "mrcnn_mask_deconv      (TimeDistributed)\n",
            "mrcnn_class_logits     (TimeDistributed)\n",
            "mrcnn_mask             (TimeDistributed)\n"
          ],
          "name": "stdout"
        },
        {
          "output_type": "stream",
          "text": [
            "/usr/local/lib/python3.6/dist-packages/tensorflow_core/python/framework/indexed_slices.py:424: UserWarning: Converting sparse IndexedSlices to a dense Tensor of unknown shape. This may consume a large amount of memory.\n",
            "  \"Converting sparse IndexedSlices to a dense Tensor of unknown shape. \"\n",
            "/usr/local/lib/python3.6/dist-packages/tensorflow_core/python/framework/indexed_slices.py:424: UserWarning: Converting sparse IndexedSlices to a dense Tensor of unknown shape. This may consume a large amount of memory.\n",
            "  \"Converting sparse IndexedSlices to a dense Tensor of unknown shape. \"\n",
            "/usr/local/lib/python3.6/dist-packages/tensorflow_core/python/framework/indexed_slices.py:424: UserWarning: Converting sparse IndexedSlices to a dense Tensor of unknown shape. This may consume a large amount of memory.\n",
            "  \"Converting sparse IndexedSlices to a dense Tensor of unknown shape. \"\n",
            "/usr/local/lib/python3.6/dist-packages/keras/engine/training.py:1987: UserWarning: Using a generator with `use_multiprocessing=True` and multiple workers may duplicate your data. Please consider using the`keras.utils.Sequence class.\n",
            "  UserWarning('Using a generator with `use_multiprocessing=True`'\n"
          ],
          "name": "stderr"
        },
        {
          "output_type": "stream",
          "text": [
            "Epoch 2/20\n",
            "24/25 [===========================>..] - ETA: 2s - loss: 1.0167 - rpn_class_loss: 0.0133 - rpn_bbox_loss: 0.2675 - mrcnn_class_loss: 0.0949 - mrcnn_bbox_loss: 0.3326 - mrcnn_mask_loss: 0.3084"
          ],
          "name": "stdout"
        },
        {
          "output_type": "stream",
          "text": [
            "/usr/local/lib/python3.6/dist-packages/keras/engine/training.py:2142: UserWarning: Using a generator with `use_multiprocessing=True` and multiple workers may duplicate your data. Please consider using the`keras.utils.Sequence class.\n",
            "  UserWarning('Using a generator with `use_multiprocessing=True`'\n"
          ],
          "name": "stderr"
        },
        {
          "output_type": "stream",
          "text": [
            "\b\b\b\b\b\b\b\b\b\b\b\b\b\b\b\b\b\b\b\b\b\b\b\b\b\b\b\b\b\b\b\b\b\b\b\b\b\b\b\b\b\b\b\b\b\b\b\b\b\b\b\b\b\b\b\b\b\b\b\b\b\b\b\b\b\b\b\b\b\b\b\b\b\b\b\b\b\b\b\b\b\b\b\b\b\b\b\b\b\b\b\b\b\b\b\b\b\b\b\b\b\b\b\b\b\b\b\b\b\b\b\b\b\b\b\b\b\b\b\b\b\b\b\b\b\b\b\b\b\b\b\b\b\b\b\b\b\b\b\b\b\b\b\b\b\b\b\b\b\b\b\b\b\b\b\b\b\b\b\b\b\b\b\b\b\b\b\b\b\b\b\b\b\b\b\b\b\b\b\b\b\b\b\b\b\b\b\b\b\b\b\r25/25 [==============================] - 188s - loss: 1.0203 - rpn_class_loss: 0.0145 - rpn_bbox_loss: 0.2682 - mrcnn_class_loss: 0.0952 - mrcnn_bbox_loss: 0.3342 - mrcnn_mask_loss: 0.3081 - val_loss: 1.0580 - val_rpn_class_loss: 0.0092 - val_rpn_bbox_loss: 0.2828 - val_mrcnn_class_loss: 0.1018 - val_mrcnn_bbox_loss: 0.3583 - val_mrcnn_mask_loss: 0.3058\n",
            "Epoch 3/20\n",
            "25/25 [==============================] - 118s - loss: 1.0268 - rpn_class_loss: 0.0083 - rpn_bbox_loss: 0.3173 - mrcnn_class_loss: 0.0912 - mrcnn_bbox_loss: 0.3069 - mrcnn_mask_loss: 0.3030 - val_loss: 0.9158 - val_rpn_class_loss: 0.0092 - val_rpn_bbox_loss: 0.2680 - val_mrcnn_class_loss: 0.0829 - val_mrcnn_bbox_loss: 0.2626 - val_mrcnn_mask_loss: 0.2931\n",
            "Epoch 4/20\n",
            "25/25 [==============================] - 114s - loss: 0.9174 - rpn_class_loss: 0.0121 - rpn_bbox_loss: 0.2478 - mrcnn_class_loss: 0.1114 - mrcnn_bbox_loss: 0.2589 - mrcnn_mask_loss: 0.2872 - val_loss: 0.9253 - val_rpn_class_loss: 0.0063 - val_rpn_bbox_loss: 0.2994 - val_mrcnn_class_loss: 0.0704 - val_mrcnn_bbox_loss: 0.2810 - val_mrcnn_mask_loss: 0.2681\n",
            "Epoch 5/20\n",
            "25/25 [==============================] - 116s - loss: 0.9384 - rpn_class_loss: 0.0099 - rpn_bbox_loss: 0.3023 - mrcnn_class_loss: 0.0682 - mrcnn_bbox_loss: 0.2815 - mrcnn_mask_loss: 0.2765 - val_loss: 0.8019 - val_rpn_class_loss: 0.0097 - val_rpn_bbox_loss: 0.2248 - val_mrcnn_class_loss: 0.0647 - val_mrcnn_bbox_loss: 0.2324 - val_mrcnn_mask_loss: 0.2703\n",
            "Epoch 6/20\n",
            "25/25 [==============================] - 116s - loss: 0.8499 - rpn_class_loss: 0.0106 - rpn_bbox_loss: 0.2530 - mrcnn_class_loss: 0.0667 - mrcnn_bbox_loss: 0.2450 - mrcnn_mask_loss: 0.2746 - val_loss: 0.8800 - val_rpn_class_loss: 0.0081 - val_rpn_bbox_loss: 0.2454 - val_mrcnn_class_loss: 0.0669 - val_mrcnn_bbox_loss: 0.2454 - val_mrcnn_mask_loss: 0.3143\n",
            "Epoch 7/20\n",
            "25/25 [==============================] - 117s - loss: 0.8756 - rpn_class_loss: 0.0082 - rpn_bbox_loss: 0.2761 - mrcnn_class_loss: 0.0884 - mrcnn_bbox_loss: 0.2314 - mrcnn_mask_loss: 0.2716 - val_loss: 0.8426 - val_rpn_class_loss: 0.0041 - val_rpn_bbox_loss: 0.2568 - val_mrcnn_class_loss: 0.1011 - val_mrcnn_bbox_loss: 0.2356 - val_mrcnn_mask_loss: 0.2450\n",
            "Epoch 8/20\n",
            "25/25 [==============================] - 116s - loss: 0.7980 - rpn_class_loss: 0.0059 - rpn_bbox_loss: 0.2561 - mrcnn_class_loss: 0.0460 - mrcnn_bbox_loss: 0.2240 - mrcnn_mask_loss: 0.2660 - val_loss: 0.7670 - val_rpn_class_loss: 0.0113 - val_rpn_bbox_loss: 0.2406 - val_mrcnn_class_loss: 0.0531 - val_mrcnn_bbox_loss: 0.1951 - val_mrcnn_mask_loss: 0.2669\n",
            "Epoch 9/20\n",
            "25/25 [==============================] - 115s - loss: 0.8104 - rpn_class_loss: 0.0079 - rpn_bbox_loss: 0.2522 - mrcnn_class_loss: 0.0651 - mrcnn_bbox_loss: 0.2174 - mrcnn_mask_loss: 0.2678 - val_loss: 0.7148 - val_rpn_class_loss: 0.0049 - val_rpn_bbox_loss: 0.2044 - val_mrcnn_class_loss: 0.0611 - val_mrcnn_bbox_loss: 0.1895 - val_mrcnn_mask_loss: 0.2549\n",
            "Epoch 10/20\n",
            "25/25 [==============================] - 115s - loss: 0.8060 - rpn_class_loss: 0.0062 - rpn_bbox_loss: 0.2647 - mrcnn_class_loss: 0.0583 - mrcnn_bbox_loss: 0.2151 - mrcnn_mask_loss: 0.2617 - val_loss: 0.7233 - val_rpn_class_loss: 0.0033 - val_rpn_bbox_loss: 0.2271 - val_mrcnn_class_loss: 0.0679 - val_mrcnn_bbox_loss: 0.1922 - val_mrcnn_mask_loss: 0.2328\n",
            "Epoch 11/20\n",
            "25/25 [==============================] - 116s - loss: 0.7457 - rpn_class_loss: 0.0071 - rpn_bbox_loss: 0.2384 - mrcnn_class_loss: 0.0613 - mrcnn_bbox_loss: 0.1954 - mrcnn_mask_loss: 0.2435 - val_loss: 0.8149 - val_rpn_class_loss: 0.0044 - val_rpn_bbox_loss: 0.2413 - val_mrcnn_class_loss: 0.0606 - val_mrcnn_bbox_loss: 0.2491 - val_mrcnn_mask_loss: 0.2595\n",
            "Epoch 12/20\n",
            "25/25 [==============================] - 117s - loss: 0.7932 - rpn_class_loss: 0.0063 - rpn_bbox_loss: 0.2596 - mrcnn_class_loss: 0.0597 - mrcnn_bbox_loss: 0.2098 - mrcnn_mask_loss: 0.2578 - val_loss: 0.6985 - val_rpn_class_loss: 0.0051 - val_rpn_bbox_loss: 0.2269 - val_mrcnn_class_loss: 0.0444 - val_mrcnn_bbox_loss: 0.1676 - val_mrcnn_mask_loss: 0.2544\n",
            "Epoch 13/20\n",
            "25/25 [==============================] - 118s - loss: 0.7417 - rpn_class_loss: 0.0065 - rpn_bbox_loss: 0.2358 - mrcnn_class_loss: 0.0563 - mrcnn_bbox_loss: 0.1872 - mrcnn_mask_loss: 0.2559 - val_loss: 0.6924 - val_rpn_class_loss: 0.0075 - val_rpn_bbox_loss: 0.2351 - val_mrcnn_class_loss: 0.0611 - val_mrcnn_bbox_loss: 0.1557 - val_mrcnn_mask_loss: 0.2331\n",
            "Epoch 14/20\n",
            "25/25 [==============================] - 117s - loss: 0.7305 - rpn_class_loss: 0.0070 - rpn_bbox_loss: 0.2596 - mrcnn_class_loss: 0.0414 - mrcnn_bbox_loss: 0.1689 - mrcnn_mask_loss: 0.2537 - val_loss: 0.7477 - val_rpn_class_loss: 0.0085 - val_rpn_bbox_loss: 0.2100 - val_mrcnn_class_loss: 0.0685 - val_mrcnn_bbox_loss: 0.2000 - val_mrcnn_mask_loss: 0.2608\n",
            "Epoch 15/20\n",
            "25/25 [==============================] - 117s - loss: 0.7915 - rpn_class_loss: 0.0081 - rpn_bbox_loss: 0.2691 - mrcnn_class_loss: 0.0579 - mrcnn_bbox_loss: 0.1970 - mrcnn_mask_loss: 0.2593 - val_loss: 0.7101 - val_rpn_class_loss: 0.0093 - val_rpn_bbox_loss: 0.2113 - val_mrcnn_class_loss: 0.0531 - val_mrcnn_bbox_loss: 0.1729 - val_mrcnn_mask_loss: 0.2636\n",
            "Epoch 16/20\n",
            "25/25 [==============================] - 117s - loss: 0.6975 - rpn_class_loss: 0.0073 - rpn_bbox_loss: 0.2191 - mrcnn_class_loss: 0.0505 - mrcnn_bbox_loss: 0.1738 - mrcnn_mask_loss: 0.2468 - val_loss: 0.6988 - val_rpn_class_loss: 0.0066 - val_rpn_bbox_loss: 0.2103 - val_mrcnn_class_loss: 0.0581 - val_mrcnn_bbox_loss: 0.1630 - val_mrcnn_mask_loss: 0.2608\n",
            "Epoch 17/20\n",
            "25/25 [==============================] - 115s - loss: 0.6893 - rpn_class_loss: 0.0068 - rpn_bbox_loss: 0.2306 - mrcnn_class_loss: 0.0504 - mrcnn_bbox_loss: 0.1582 - mrcnn_mask_loss: 0.2434 - val_loss: 0.7640 - val_rpn_class_loss: 0.0046 - val_rpn_bbox_loss: 0.2484 - val_mrcnn_class_loss: 0.0476 - val_mrcnn_bbox_loss: 0.1849 - val_mrcnn_mask_loss: 0.2786\n",
            "Epoch 18/20\n",
            "25/25 [==============================] - 115s - loss: 0.7882 - rpn_class_loss: 0.0071 - rpn_bbox_loss: 0.2614 - mrcnn_class_loss: 0.0608 - mrcnn_bbox_loss: 0.1903 - mrcnn_mask_loss: 0.2686 - val_loss: 0.7312 - val_rpn_class_loss: 0.0097 - val_rpn_bbox_loss: 0.2614 - val_mrcnn_class_loss: 0.0568 - val_mrcnn_bbox_loss: 0.1627 - val_mrcnn_mask_loss: 0.2405\n",
            "Epoch 19/20\n",
            "25/25 [==============================] - 116s - loss: 0.7151 - rpn_class_loss: 0.0089 - rpn_bbox_loss: 0.2493 - mrcnn_class_loss: 0.0577 - mrcnn_bbox_loss: 0.1574 - mrcnn_mask_loss: 0.2418 - val_loss: 0.6340 - val_rpn_class_loss: 0.0065 - val_rpn_bbox_loss: 0.1876 - val_mrcnn_class_loss: 0.0472 - val_mrcnn_bbox_loss: 0.1574 - val_mrcnn_mask_loss: 0.2353\n",
            "Epoch 20/20\n",
            "25/25 [==============================] - 115s - loss: 0.7229 - rpn_class_loss: 0.0065 - rpn_bbox_loss: 0.2451 - mrcnn_class_loss: 0.0430 - mrcnn_bbox_loss: 0.1709 - mrcnn_mask_loss: 0.2574 - val_loss: 0.6760 - val_rpn_class_loss: 0.0053 - val_rpn_bbox_loss: 0.1908 - val_mrcnn_class_loss: 0.0672 - val_mrcnn_bbox_loss: 0.1636 - val_mrcnn_mask_loss: 0.2491\n"
          ],
          "name": "stdout"
        }
      ]
    },
    {
      "cell_type": "code",
      "metadata": {
        "id": "ON6X1uJfhPBy"
      },
      "source": [
        ""
      ],
      "execution_count": null,
      "outputs": []
    },
    {
      "cell_type": "code",
      "metadata": {
        "id": "eVHUrmcX1n2P"
      },
      "source": [
        "model.predict()"
      ],
      "execution_count": null,
      "outputs": []
    },
    {
      "cell_type": "code",
      "metadata": {
        "id": "uPFql0IJAlXs"
      },
      "source": [
        "im = skimage.io.imread('/content/Train_Data/Dec04_224.png')"
      ],
      "execution_count": null,
      "outputs": []
    },
    {
      "cell_type": "code",
      "metadata": {
        "colab": {
          "base_uri": "https://localhost:8080/",
          "height": 301
        },
        "id": "zOjrw4D2AmhM",
        "outputId": "5b29032e-8e24-4f87-9403-fe42f30b1599"
      },
      "source": [
        "model.detect(im)"
      ],
      "execution_count": null,
      "outputs": [
        {
          "output_type": "error",
          "ename": "AssertionError",
          "evalue": "ignored",
          "traceback": [
            "\u001b[0;31m---------------------------------------------------------------------------\u001b[0m",
            "\u001b[0;31mAssertionError\u001b[0m                            Traceback (most recent call last)",
            "\u001b[0;32m<ipython-input-12-9f2806e0c12c>\u001b[0m in \u001b[0;36m<module>\u001b[0;34m()\u001b[0m\n\u001b[0;32m----> 1\u001b[0;31m \u001b[0mmodel\u001b[0m\u001b[0;34m.\u001b[0m\u001b[0mdetect\u001b[0m\u001b[0;34m(\u001b[0m\u001b[0mim\u001b[0m\u001b[0;34m)\u001b[0m\u001b[0;34m\u001b[0m\u001b[0;34m\u001b[0m\u001b[0m\n\u001b[0m",
            "\u001b[0;32m/content/Mask_RCNN/mrcnn/model.py\u001b[0m in \u001b[0;36mdetect\u001b[0;34m(self, images, verbose)\u001b[0m\n\u001b[1;32m   2491\u001b[0m         \u001b[0mmasks\u001b[0m\u001b[0;34m:\u001b[0m \u001b[0;34m[\u001b[0m\u001b[0mH\u001b[0m\u001b[0;34m,\u001b[0m \u001b[0mW\u001b[0m\u001b[0;34m,\u001b[0m \u001b[0mN\u001b[0m\u001b[0;34m]\u001b[0m \u001b[0minstance\u001b[0m \u001b[0mbinary\u001b[0m \u001b[0mmasks\u001b[0m\u001b[0;34m\u001b[0m\u001b[0;34m\u001b[0m\u001b[0m\n\u001b[1;32m   2492\u001b[0m         \"\"\"\n\u001b[0;32m-> 2493\u001b[0;31m         \u001b[0;32massert\u001b[0m \u001b[0mself\u001b[0m\u001b[0;34m.\u001b[0m\u001b[0mmode\u001b[0m \u001b[0;34m==\u001b[0m \u001b[0;34m\"inference\"\u001b[0m\u001b[0;34m,\u001b[0m \u001b[0;34m\"Create model in inference mode.\"\u001b[0m\u001b[0;34m\u001b[0m\u001b[0;34m\u001b[0m\u001b[0m\n\u001b[0m\u001b[1;32m   2494\u001b[0m         assert len(\n\u001b[1;32m   2495\u001b[0m             images) == self.config.BATCH_SIZE, \"len(images) must be equal to BATCH_SIZE\"\n",
            "\u001b[0;31mAssertionError\u001b[0m: Create model in inference mode."
          ]
        }
      ]
    },
    {
      "cell_type": "code",
      "metadata": {
        "colab": {
          "base_uri": "https://localhost:8080/"
        },
        "id": "kjji7PU2WKsL",
        "outputId": "573150c5-1a47-4733-90ed-a67046b51208"
      },
      "source": [
        "class TestConfig(Config):\r\n",
        "     NAME = \"test\"\r\n",
        "     GPU_COUNT = 1\r\n",
        "     IMAGES_PER_GPU = 1\r\n",
        "     NUM_CLASSES = 1 + 3\r\n",
        " \r\n",
        "# define the model\r\n",
        "rcnn = modellib.MaskRCNN(mode='inference', model_dir='./', config=TestConfig())\r\n",
        "# load coco model weights\r\n",
        "rcnn.load_weights('/content/model_dir/bec20201210T1939/mask_rcnn_bec_0019.h5', by_name=True)\r\n",
        "# load photograph\r\n",
        "img = skimage.io.imread('/content/Train_Data/Dec04_289.png')\r\n",
        "#img = img_to_array(img)\r\n",
        "# make prediction\r\n",
        "results = rcnn.detect([img[:,:,:3]], verbose=0)"
      ],
      "execution_count": null,
      "outputs": [
        {
          "output_type": "stream",
          "text": [
            "Re-starting from epoch 19\n"
          ],
          "name": "stdout"
        }
      ]
    },
    {
      "cell_type": "code",
      "metadata": {
        "colab": {
          "base_uri": "https://localhost:8080/"
        },
        "id": "OUagJFLuW12X",
        "outputId": "d15b1e41-ccad-4590-997e-a06d256853e9"
      },
      "source": [
        "img = skimage.io.imread('/content/Train_Data/Dec04_289.png')\r\n",
        "#img = img_to_array(img)\r\n",
        "# make prediction\r\n",
        "results = rcnn.detect([img[:,:,:3]], verbose=0)\r\n",
        "results[0]['rois']"
      ],
      "execution_count": null,
      "outputs": [
        {
          "output_type": "execute_result",
          "data": {
            "text/plain": [
              "array([[428, 519, 468, 564],\n",
              "       [672, 515, 732, 572]], dtype=int32)"
            ]
          },
          "metadata": {
            "tags": []
          },
          "execution_count": 38
        }
      ]
    },
    {
      "cell_type": "code",
      "metadata": {
        "id": "ih7_lNzvYvvG"
      },
      "source": [
        ""
      ],
      "execution_count": null,
      "outputs": []
    },
    {
      "cell_type": "code",
      "metadata": {
        "colab": {
          "base_uri": "https://localhost:8080/",
          "height": 283
        },
        "id": "Cd22UoizXHU3",
        "outputId": "9a6ffef0-9af8-4495-aa6a-b21540286bec"
      },
      "source": [
        "import matplotlib.pyplot as plt\r\n",
        "from matplotlib import patches\r\n",
        "plt.imshow(img)\r\n",
        "plt.ylim(672,732)\r\n",
        "plt.xlim(519,564)"
      ],
      "execution_count": null,
      "outputs": [
        {
          "output_type": "execute_result",
          "data": {
            "text/plain": [
              "(519.0, 564.0)"
            ]
          },
          "metadata": {
            "tags": []
          },
          "execution_count": 51
        },
        {
          "output_type": "display_data",
          "data": {
            "image/png": "[encoded data removed]",
            "text/plain": [
              "<Figure size 432x288 with 1 Axes>"
            ]
          },
          "metadata": {
            "tags": [],
            "needs_background": "light"
          }
        }
      ]
    },
    {
      "cell_type": "code",
      "metadata": {
        "colab": {
          "base_uri": "https://localhost:8080/",
          "height": 287
        },
        "id": "ZR4Q9YurXMSG",
        "outputId": "a203f9cb-1aee-4942-ffcb-7de92dfaeab6"
      },
      "source": [
        "fig,ax = plt.subplots()\r\n",
        "ax.imshow(img)\r\n",
        "for row in results[0]['rois']:\r\n",
        "  x0 = row[1]\r\n",
        "  y0 = row[0]\r\n",
        "  width = row[3]-row[1]\r\n",
        "  height = row[2]-row[0]\r\n",
        "\r\n",
        "  ax.add_patch(patches.Rectangle((x0,y0),width, height, edgecolor = 'r', linewidth=3, facecolor = 'None'))\r\n",
        "ax.set_xlim(400,800)\r\n",
        "ax.set_ylim(400,800)"
      ],
      "execution_count": null,
      "outputs": [
        {
          "output_type": "execute_result",
          "data": {
            "text/plain": [
              "(400.0, 800.0)"
            ]
          },
          "metadata": {
            "tags": []
          },
          "execution_count": 60
        },
        {
          "output_type": "display_data",
          "data": {
            "image/png": "[encoded data removed]",
            "text/plain": [
              "<Figure size 432x288 with 1 Axes>"
            ]
          },
          "metadata": {
            "tags": [],
            "needs_background": "light"
          }
        }
      ]
    },
    {
      "cell_type": "code",
      "metadata": {
        "id": "27Dop1cYZOFV"
      },
      "source": [
        ""
      ],
      "execution_count": null,
      "outputs": []
    }
  ]
}